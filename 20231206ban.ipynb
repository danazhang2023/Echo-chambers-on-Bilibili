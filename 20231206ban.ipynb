{
 "cells": [
  {
   "cell_type": "code",
   "execution_count": 360,
   "id": "d063fd31",
   "metadata": {},
   "outputs": [],
   "source": [
    "# -*- coding: utf-8 -*-"
   ]
  },
  {
   "cell_type": "code",
   "execution_count": 1,
   "id": "eb948b29",
   "metadata": {},
   "outputs": [],
   "source": [
    "import pandas as pd"
   ]
  },
  {
   "cell_type": "code",
   "execution_count": 3,
   "id": "59f75609",
   "metadata": {},
   "outputs": [
    {
     "data": {
      "text/html": [
       "<div>\n",
       "<style scoped>\n",
       "    .dataframe tbody tr th:only-of-type {\n",
       "        vertical-align: middle;\n",
       "    }\n",
       "\n",
       "    .dataframe tbody tr th {\n",
       "        vertical-align: top;\n",
       "    }\n",
       "\n",
       "    .dataframe thead th {\n",
       "        text-align: right;\n",
       "    }\n",
       "</style>\n",
       "<table border=\"1\" class=\"dataframe\">\n",
       "  <thead>\n",
       "    <tr style=\"text-align: right;\">\n",
       "      <th></th>\n",
       "      <th>Unnamed: 0</th>\n",
       "      <th>name</th>\n",
       "      <th>mid</th>\n",
       "      <th>sex</th>\n",
       "      <th>time</th>\n",
       "      <th>zan</th>\n",
       "      <th>message</th>\n",
       "    </tr>\n",
       "  </thead>\n",
       "  <tbody>\n",
       "    <tr>\n",
       "      <th>0</th>\n",
       "      <td>0</td>\n",
       "      <td>银鹿x</td>\n",
       "      <td>260474253.0</td>\n",
       "      <td>男</td>\n",
       "      <td>2021-11-07 04:11:38</td>\n",
       "      <td>31938.0</td>\n",
       "      <td>ShowMaker:我看见faker选手瘫坐在椅子上，最后一把我选择了faker选手的皮肤，...</td>\n",
       "    </tr>\n",
       "    <tr>\n",
       "      <th>1</th>\n",
       "      <td>1</td>\n",
       "      <td>艺术家菩提老仙儿</td>\n",
       "      <td>175948894.0</td>\n",
       "      <td>保密</td>\n",
       "      <td>2021-11-06 21:13:19</td>\n",
       "      <td>78682.0</td>\n",
       "      <td>也许有一天，我说也许，也许有一天，我们再次对英雄联盟电子竞技失去了信心。因为韩国的宰治，从四...</td>\n",
       "    </tr>\n",
       "    <tr>\n",
       "      <th>2</th>\n",
       "      <td>2</td>\n",
       "      <td>LPL战术小黑板</td>\n",
       "      <td>594534726.0</td>\n",
       "      <td>男</td>\n",
       "      <td>2021-11-07 01:13:41</td>\n",
       "      <td>46281.0</td>\n",
       "      <td>我们是冠军！！！！！！！！！！！！！！我们是冠军！！！！！！！！！！！！！！我们是冠军！！！...</td>\n",
       "    </tr>\n",
       "    <tr>\n",
       "      <th>3</th>\n",
       "      <td>3</td>\n",
       "      <td>晏九丿</td>\n",
       "      <td>53619780.0</td>\n",
       "      <td>男</td>\n",
       "      <td>2021-11-06 21:13:17</td>\n",
       "      <td>41785.0</td>\n",
       "      <td>骑士拔剑，攘除外敌，重建王朝。\\n我懂了是亚瑟王传说！</td>\n",
       "    </tr>\n",
       "    <tr>\n",
       "      <th>4</th>\n",
       "      <td>4</td>\n",
       "      <td>bili_326291101</td>\n",
       "      <td>326291101.0</td>\n",
       "      <td>男</td>\n",
       "      <td>2021-11-07 01:31:30</td>\n",
       "      <td>17978.0</td>\n",
       "      <td>三个冠军队LCK围剿LPL？\\n我TM直接穿死！\\n兄弟，你是什么冠军？\\n我是踩着三个冠军...</td>\n",
       "    </tr>\n",
       "    <tr>\n",
       "      <th>...</th>\n",
       "      <td>...</td>\n",
       "      <td>...</td>\n",
       "      <td>...</td>\n",
       "      <td>...</td>\n",
       "      <td>...</td>\n",
       "      <td>...</td>\n",
       "      <td>...</td>\n",
       "    </tr>\n",
       "    <tr>\n",
       "      <th>68119</th>\n",
       "      <td>19205</td>\n",
       "      <td>无题Daniel</td>\n",
       "      <td>5189750.0</td>\n",
       "      <td>保密</td>\n",
       "      <td>2021-11-07 01:09:22</td>\n",
       "      <td>0.0</td>\n",
       "      <td>我一看，第二局就输了，第三把没忍住点了下，后面一把没看[OK]</td>\n",
       "    </tr>\n",
       "    <tr>\n",
       "      <th>68120</th>\n",
       "      <td>19206</td>\n",
       "      <td>听说这个名字已被占用</td>\n",
       "      <td>2657753.0</td>\n",
       "      <td>保密</td>\n",
       "      <td>2021-11-07 01:38:26</td>\n",
       "      <td>0.0</td>\n",
       "      <td>何止估计连LOL都不玩</td>\n",
       "    </tr>\n",
       "    <tr>\n",
       "      <th>68121</th>\n",
       "      <td>19207</td>\n",
       "      <td>飞牛顿流体</td>\n",
       "      <td>519625475.0</td>\n",
       "      <td>男</td>\n",
       "      <td>2021-11-07 01:08:30</td>\n",
       "      <td>0.0</td>\n",
       "      <td>许秀：坏了，我又成faker了</td>\n",
       "    </tr>\n",
       "    <tr>\n",
       "      <th>68122</th>\n",
       "      <td>19208</td>\n",
       "      <td>咔璞・利亚斯</td>\n",
       "      <td>433982286.0</td>\n",
       "      <td>男</td>\n",
       "      <td>2021-11-07 01:20:25</td>\n",
       "      <td>0.0</td>\n",
       "      <td>dk打完t1那把，科黑给许秀贷款三连冠出来踩faker三冠的样子简直是小丑[吃瓜]</td>\n",
       "    </tr>\n",
       "    <tr>\n",
       "      <th>68123</th>\n",
       "      <td>19209</td>\n",
       "      <td>浮生一日蜉蝣一生</td>\n",
       "      <td>380863782.0</td>\n",
       "      <td>保密</td>\n",
       "      <td>2021-11-07 01:09:03</td>\n",
       "      <td>0.0</td>\n",
       "      <td>别刀了[藏狐]</td>\n",
       "    </tr>\n",
       "  </tbody>\n",
       "</table>\n",
       "<p>68124 rows × 7 columns</p>\n",
       "</div>"
      ],
      "text/plain": [
       "       Unnamed: 0            name          mid sex                 time  \\\n",
       "0               0             银鹿x  260474253.0   男  2021-11-07 04:11:38   \n",
       "1               1        艺术家菩提老仙儿  175948894.0  保密  2021-11-06 21:13:19   \n",
       "2               2        LPL战术小黑板  594534726.0   男  2021-11-07 01:13:41   \n",
       "3               3             晏九丿   53619780.0   男  2021-11-06 21:13:17   \n",
       "4               4  bili_326291101  326291101.0   男  2021-11-07 01:31:30   \n",
       "...           ...             ...          ...  ..                  ...   \n",
       "68119       19205        无题Daniel    5189750.0  保密  2021-11-07 01:09:22   \n",
       "68120       19206      听说这个名字已被占用    2657753.0  保密  2021-11-07 01:38:26   \n",
       "68121       19207           飞牛顿流体  519625475.0   男  2021-11-07 01:08:30   \n",
       "68122       19208          咔璞・利亚斯  433982286.0   男  2021-11-07 01:20:25   \n",
       "68123       19209        浮生一日蜉蝣一生  380863782.0  保密  2021-11-07 01:09:03   \n",
       "\n",
       "           zan                                            message  \n",
       "0      31938.0  ShowMaker:我看见faker选手瘫坐在椅子上，最后一把我选择了faker选手的皮肤，...  \n",
       "1      78682.0  也许有一天，我说也许，也许有一天，我们再次对英雄联盟电子竞技失去了信心。因为韩国的宰治，从四...  \n",
       "2      46281.0  我们是冠军！！！！！！！！！！！！！！我们是冠军！！！！！！！！！！！！！！我们是冠军！！！...  \n",
       "3      41785.0                        骑士拔剑，攘除外敌，重建王朝。\\n我懂了是亚瑟王传说！  \n",
       "4      17978.0  三个冠军队LCK围剿LPL？\\n我TM直接穿死！\\n兄弟，你是什么冠军？\\n我是踩着三个冠军...  \n",
       "...        ...                                                ...  \n",
       "68119      0.0                    我一看，第二局就输了，第三把没忍住点了下，后面一把没看[OK]  \n",
       "68120      0.0                                        何止估计连LOL都不玩  \n",
       "68121      0.0                                    许秀：坏了，我又成faker了  \n",
       "68122      0.0          dk打完t1那把，科黑给许秀贷款三连冠出来踩faker三冠的样子简直是小丑[吃瓜]  \n",
       "68123      0.0                                            别刀了[藏狐]  \n",
       "\n",
       "[68124 rows x 7 columns]"
      ]
     },
     "execution_count": 3,
     "metadata": {},
     "output_type": "execute_result"
    }
   ],
   "source": [
    "xx=pd.read_csv('12review.csv')\n",
    "xx"
   ]
  },
  {
   "cell_type": "code",
   "execution_count": 2,
   "id": "1972be3c",
   "metadata": {},
   "outputs": [
    {
     "data": {
      "text/plain": [
       "'zh_CN.UTF-8'"
      ]
     },
     "execution_count": 2,
     "metadata": {},
     "output_type": "execute_result"
    }
   ],
   "source": [
    "import locale\n",
    "locale.setlocale(locale.LC_ALL, 'zh_CN.UTF-8')"
   ]
  },
  {
   "cell_type": "code",
   "execution_count": 3,
   "id": "7d038905",
   "metadata": {},
   "outputs": [],
   "source": [
    "import pandas as pd\n",
    "import re\n",
    "import numpy as np"
   ]
  },
  {
   "cell_type": "code",
   "execution_count": 3,
   "id": "96beb9a3",
   "metadata": {},
   "outputs": [],
   "source": [
    "datax=pd.read_csv('1levelreviewu.csv')\n",
    "datay=pd.read_csv('2levelreviewu.csv')"
   ]
  },
  {
   "cell_type": "code",
   "execution_count": 8,
   "id": "90ccbc5a",
   "metadata": {},
   "outputs": [],
   "source": [
    "data=pd.read_csv('12review.csv',encoding='utf-8')"
   ]
  },
  {
   "cell_type": "code",
   "execution_count": 5,
   "id": "dc702f07",
   "metadata": {},
   "outputs": [],
   "source": [
    "net=pd.read_csv('networku.csv')"
   ]
  },
  {
   "cell_type": "code",
   "execution_count": null,
   "id": "05ed7432",
   "metadata": {},
   "outputs": [],
   "source": [
    "network=pd.read_csv('network2.csv') #一级评论和二级评论全部的边表格"
   ]
  },
  {
   "cell_type": "markdown",
   "id": "d03814da",
   "metadata": {},
   "source": [
    "# tdidf"
   ]
  },
  {
   "cell_type": "code",
   "execution_count": 6,
   "id": "2e42a977",
   "metadata": {},
   "outputs": [
    {
     "name": "stderr",
     "output_type": "stream",
     "text": [
      "/Library/Frameworks/Python.framework/Versions/3.7/lib/python3.7/site-packages/sklearn/linear_model/least_angle.py:30: DeprecationWarning: `np.float` is a deprecated alias for the builtin `float`. To silence this warning, use `float` by itself. Doing this will not modify any behavior and is safe. If you specifically wanted the numpy scalar type, use `np.float64` here.\n",
      "Deprecated in NumPy 1.20; for more details and guidance: https://numpy.org/devdocs/release/1.20.0-notes.html#deprecations\n",
      "  method='lar', copy_X=True, eps=np.finfo(np.float).eps,\n",
      "/Library/Frameworks/Python.framework/Versions/3.7/lib/python3.7/site-packages/sklearn/linear_model/least_angle.py:167: DeprecationWarning: `np.float` is a deprecated alias for the builtin `float`. To silence this warning, use `float` by itself. Doing this will not modify any behavior and is safe. If you specifically wanted the numpy scalar type, use `np.float64` here.\n",
      "Deprecated in NumPy 1.20; for more details and guidance: https://numpy.org/devdocs/release/1.20.0-notes.html#deprecations\n",
      "  method='lar', copy_X=True, eps=np.finfo(np.float).eps,\n",
      "/Library/Frameworks/Python.framework/Versions/3.7/lib/python3.7/site-packages/sklearn/linear_model/least_angle.py:284: DeprecationWarning: `np.float` is a deprecated alias for the builtin `float`. To silence this warning, use `float` by itself. Doing this will not modify any behavior and is safe. If you specifically wanted the numpy scalar type, use `np.float64` here.\n",
      "Deprecated in NumPy 1.20; for more details and guidance: https://numpy.org/devdocs/release/1.20.0-notes.html#deprecations\n",
      "  eps=np.finfo(np.float).eps, copy_Gram=True, verbose=0,\n",
      "/Library/Frameworks/Python.framework/Versions/3.7/lib/python3.7/site-packages/sklearn/linear_model/least_angle.py:862: DeprecationWarning: `np.float` is a deprecated alias for the builtin `float`. To silence this warning, use `float` by itself. Doing this will not modify any behavior and is safe. If you specifically wanted the numpy scalar type, use `np.float64` here.\n",
      "Deprecated in NumPy 1.20; for more details and guidance: https://numpy.org/devdocs/release/1.20.0-notes.html#deprecations\n",
      "  eps=np.finfo(np.float).eps, copy_X=True, fit_path=True,\n",
      "/Library/Frameworks/Python.framework/Versions/3.7/lib/python3.7/site-packages/sklearn/linear_model/least_angle.py:1101: DeprecationWarning: `np.float` is a deprecated alias for the builtin `float`. To silence this warning, use `float` by itself. Doing this will not modify any behavior and is safe. If you specifically wanted the numpy scalar type, use `np.float64` here.\n",
      "Deprecated in NumPy 1.20; for more details and guidance: https://numpy.org/devdocs/release/1.20.0-notes.html#deprecations\n",
      "  eps=np.finfo(np.float).eps, copy_X=True, fit_path=True,\n",
      "/Library/Frameworks/Python.framework/Versions/3.7/lib/python3.7/site-packages/sklearn/linear_model/least_angle.py:1127: DeprecationWarning: `np.float` is a deprecated alias for the builtin `float`. To silence this warning, use `float` by itself. Doing this will not modify any behavior and is safe. If you specifically wanted the numpy scalar type, use `np.float64` here.\n",
      "Deprecated in NumPy 1.20; for more details and guidance: https://numpy.org/devdocs/release/1.20.0-notes.html#deprecations\n",
      "  eps=np.finfo(np.float).eps, positive=False):\n",
      "/Library/Frameworks/Python.framework/Versions/3.7/lib/python3.7/site-packages/sklearn/linear_model/least_angle.py:1362: DeprecationWarning: `np.float` is a deprecated alias for the builtin `float`. To silence this warning, use `float` by itself. Doing this will not modify any behavior and is safe. If you specifically wanted the numpy scalar type, use `np.float64` here.\n",
      "Deprecated in NumPy 1.20; for more details and guidance: https://numpy.org/devdocs/release/1.20.0-notes.html#deprecations\n",
      "  max_n_alphas=1000, n_jobs=None, eps=np.finfo(np.float).eps,\n",
      "/Library/Frameworks/Python.framework/Versions/3.7/lib/python3.7/site-packages/sklearn/linear_model/least_angle.py:1602: DeprecationWarning: `np.float` is a deprecated alias for the builtin `float`. To silence this warning, use `float` by itself. Doing this will not modify any behavior and is safe. If you specifically wanted the numpy scalar type, use `np.float64` here.\n",
      "Deprecated in NumPy 1.20; for more details and guidance: https://numpy.org/devdocs/release/1.20.0-notes.html#deprecations\n",
      "  max_n_alphas=1000, n_jobs=None, eps=np.finfo(np.float).eps,\n",
      "/Library/Frameworks/Python.framework/Versions/3.7/lib/python3.7/site-packages/sklearn/linear_model/least_angle.py:1738: DeprecationWarning: `np.float` is a deprecated alias for the builtin `float`. To silence this warning, use `float` by itself. Doing this will not modify any behavior and is safe. If you specifically wanted the numpy scalar type, use `np.float64` here.\n",
      "Deprecated in NumPy 1.20; for more details and guidance: https://numpy.org/devdocs/release/1.20.0-notes.html#deprecations\n",
      "  eps=np.finfo(np.float).eps, copy_X=True, positive=False):\n",
      "/Library/Frameworks/Python.framework/Versions/3.7/lib/python3.7/site-packages/sklearn/decomposition/online_lda.py:29: DeprecationWarning: `np.float` is a deprecated alias for the builtin `float`. To silence this warning, use `float` by itself. Doing this will not modify any behavior and is safe. If you specifically wanted the numpy scalar type, use `np.float64` here.\n",
      "Deprecated in NumPy 1.20; for more details and guidance: https://numpy.org/devdocs/release/1.20.0-notes.html#deprecations\n",
      "  EPS = np.finfo(np.float).eps\n"
     ]
    }
   ],
   "source": [
    "import jieba\n",
    "import re\n",
    "import numpy as np\n",
    "from sklearn.decomposition import PCA\n",
    "import gensim\n",
    "from gensim.models import Word2Vec\n",
    "import matplotlib.pyplot as plt\n",
    "import matplotlib\n",
    "import os\n",
    "import re\n",
    "import numpy as np\n",
    "import jieba.posseg as psg\n",
    "import networkx as nx\n",
    "import pandas as pd\n",
    "import math"
   ]
  },
  {
   "cell_type": "code",
   "execution_count": 16,
   "id": "8d7f8a0f",
   "metadata": {},
   "outputs": [
    {
     "data": {
      "text/html": [
       "<div>\n",
       "<style scoped>\n",
       "    .dataframe tbody tr th:only-of-type {\n",
       "        vertical-align: middle;\n",
       "    }\n",
       "\n",
       "    .dataframe tbody tr th {\n",
       "        vertical-align: top;\n",
       "    }\n",
       "\n",
       "    .dataframe thead th {\n",
       "        text-align: right;\n",
       "    }\n",
       "</style>\n",
       "<table border=\"1\" class=\"dataframe\">\n",
       "  <thead>\n",
       "    <tr style=\"text-align: right;\">\n",
       "      <th></th>\n",
       "      <th>Unnamed: 0</th>\n",
       "      <th>name</th>\n",
       "      <th>mid</th>\n",
       "      <th>sex</th>\n",
       "      <th>time</th>\n",
       "      <th>zan</th>\n",
       "      <th>message</th>\n",
       "    </tr>\n",
       "  </thead>\n",
       "  <tbody>\n",
       "    <tr>\n",
       "      <th>0</th>\n",
       "      <td>0</td>\n",
       "      <td>银鹿x</td>\n",
       "      <td>260474253.0</td>\n",
       "      <td>男</td>\n",
       "      <td>2021-11-07 04:11:38</td>\n",
       "      <td>31938.0</td>\n",
       "      <td>我看见选手瘫坐在椅子上最后一把我选择了选手的皮肤果不其然我也瘫坐在椅子上了</td>\n",
       "    </tr>\n",
       "    <tr>\n",
       "      <th>1</th>\n",
       "      <td>1</td>\n",
       "      <td>艺术家菩提老仙儿</td>\n",
       "      <td>175948894.0</td>\n",
       "      <td>保密</td>\n",
       "      <td>2021-11-06 21:13:19</td>\n",
       "      <td>78682.0</td>\n",
       "      <td>也许有一天我说也许也许有一天我们再次对英雄联盟电子竞技失去了信心因为韩国的宰治从四强赛看来已...</td>\n",
       "    </tr>\n",
       "    <tr>\n",
       "      <th>2</th>\n",
       "      <td>2</td>\n",
       "      <td>LPL战术小黑板</td>\n",
       "      <td>594534726.0</td>\n",
       "      <td>男</td>\n",
       "      <td>2021-11-07 01:13:41</td>\n",
       "      <td>46281.0</td>\n",
       "      <td>我们是冠军我们是冠军我们是冠军我们是冠军我们是冠军我们是冠军</td>\n",
       "    </tr>\n",
       "    <tr>\n",
       "      <th>3</th>\n",
       "      <td>3</td>\n",
       "      <td>晏九丿</td>\n",
       "      <td>53619780.0</td>\n",
       "      <td>男</td>\n",
       "      <td>2021-11-06 21:13:17</td>\n",
       "      <td>41785.0</td>\n",
       "      <td>骑士拔剑攘除外敌重建王朝我懂了是亚瑟王传说</td>\n",
       "    </tr>\n",
       "    <tr>\n",
       "      <th>4</th>\n",
       "      <td>4</td>\n",
       "      <td>bili_326291101</td>\n",
       "      <td>326291101.0</td>\n",
       "      <td>男</td>\n",
       "      <td>2021-11-07 01:31:30</td>\n",
       "      <td>17978.0</td>\n",
       "      <td>三个冠军队围剿我直接穿死兄弟你是什么冠军我是踩着三个冠军拿的冠军</td>\n",
       "    </tr>\n",
       "    <tr>\n",
       "      <th>...</th>\n",
       "      <td>...</td>\n",
       "      <td>...</td>\n",
       "      <td>...</td>\n",
       "      <td>...</td>\n",
       "      <td>...</td>\n",
       "      <td>...</td>\n",
       "      <td>...</td>\n",
       "    </tr>\n",
       "    <tr>\n",
       "      <th>68119</th>\n",
       "      <td>19205</td>\n",
       "      <td>无题Daniel</td>\n",
       "      <td>5189750.0</td>\n",
       "      <td>保密</td>\n",
       "      <td>2021-11-07 01:09:22</td>\n",
       "      <td>0.0</td>\n",
       "      <td>我一看第二局就输了第三把没忍住点了下后面一把没看</td>\n",
       "    </tr>\n",
       "    <tr>\n",
       "      <th>68120</th>\n",
       "      <td>19206</td>\n",
       "      <td>听说这个名字已被占用</td>\n",
       "      <td>2657753.0</td>\n",
       "      <td>保密</td>\n",
       "      <td>2021-11-07 01:38:26</td>\n",
       "      <td>0.0</td>\n",
       "      <td>何止估计连都不玩</td>\n",
       "    </tr>\n",
       "    <tr>\n",
       "      <th>68121</th>\n",
       "      <td>19207</td>\n",
       "      <td>飞牛顿流体</td>\n",
       "      <td>519625475.0</td>\n",
       "      <td>男</td>\n",
       "      <td>2021-11-07 01:08:30</td>\n",
       "      <td>0.0</td>\n",
       "      <td>许秀坏了我又成了</td>\n",
       "    </tr>\n",
       "    <tr>\n",
       "      <th>68122</th>\n",
       "      <td>19208</td>\n",
       "      <td>咔璞・利亚斯</td>\n",
       "      <td>433982286.0</td>\n",
       "      <td>男</td>\n",
       "      <td>2021-11-07 01:20:25</td>\n",
       "      <td>0.0</td>\n",
       "      <td>打完那把科黑给许秀贷款三连冠出来踩三冠的样子简直是小丑</td>\n",
       "    </tr>\n",
       "    <tr>\n",
       "      <th>68123</th>\n",
       "      <td>19209</td>\n",
       "      <td>浮生一日蜉蝣一生</td>\n",
       "      <td>380863782.0</td>\n",
       "      <td>保密</td>\n",
       "      <td>2021-11-07 01:09:03</td>\n",
       "      <td>0.0</td>\n",
       "      <td>别刀了</td>\n",
       "    </tr>\n",
       "  </tbody>\n",
       "</table>\n",
       "<p>53571 rows × 7 columns</p>\n",
       "</div>"
      ],
      "text/plain": [
       "       Unnamed: 0            name          mid sex                 time  \\\n",
       "0               0             银鹿x  260474253.0   男  2021-11-07 04:11:38   \n",
       "1               1        艺术家菩提老仙儿  175948894.0  保密  2021-11-06 21:13:19   \n",
       "2               2        LPL战术小黑板  594534726.0   男  2021-11-07 01:13:41   \n",
       "3               3             晏九丿   53619780.0   男  2021-11-06 21:13:17   \n",
       "4               4  bili_326291101  326291101.0   男  2021-11-07 01:31:30   \n",
       "...           ...             ...          ...  ..                  ...   \n",
       "68119       19205        无题Daniel    5189750.0  保密  2021-11-07 01:09:22   \n",
       "68120       19206      听说这个名字已被占用    2657753.0  保密  2021-11-07 01:38:26   \n",
       "68121       19207           飞牛顿流体  519625475.0   男  2021-11-07 01:08:30   \n",
       "68122       19208          咔璞・利亚斯  433982286.0   男  2021-11-07 01:20:25   \n",
       "68123       19209        浮生一日蜉蝣一生  380863782.0  保密  2021-11-07 01:09:03   \n",
       "\n",
       "           zan                                            message  \n",
       "0      31938.0              我看见选手瘫坐在椅子上最后一把我选择了选手的皮肤果不其然我也瘫坐在椅子上了  \n",
       "1      78682.0  也许有一天我说也许也许有一天我们再次对英雄联盟电子竞技失去了信心因为韩国的宰治从四强赛看来已...  \n",
       "2      46281.0                     我们是冠军我们是冠军我们是冠军我们是冠军我们是冠军我们是冠军  \n",
       "3      41785.0                              骑士拔剑攘除外敌重建王朝我懂了是亚瑟王传说  \n",
       "4      17978.0                   三个冠军队围剿我直接穿死兄弟你是什么冠军我是踩着三个冠军拿的冠军  \n",
       "...        ...                                                ...  \n",
       "68119      0.0                           我一看第二局就输了第三把没忍住点了下后面一把没看  \n",
       "68120      0.0                                           何止估计连都不玩  \n",
       "68121      0.0                                           许秀坏了我又成了  \n",
       "68122      0.0                        打完那把科黑给许秀贷款三连冠出来踩三冠的样子简直是小丑  \n",
       "68123      0.0                                                别刀了  \n",
       "\n",
       "[53571 rows x 7 columns]"
      ]
     },
     "execution_count": 16,
     "metadata": {},
     "output_type": "execute_result"
    }
   ],
   "source": [
    "data['message']=data['message'].fillna('')\n",
    "data[data['message']!='']"
   ]
  },
  {
   "cell_type": "code",
   "execution_count": 20,
   "id": "205f6845",
   "metadata": {},
   "outputs": [],
   "source": [
    "data['message']=data['message'].str.replace(\"回复 @[^:]+ :\", \"\", regex=True) #去除回复\n",
    "data['message']=data['message'].str.replace(\"\\[([^\\[\\]]{2,10})\\]\", \"\", regex=True) #去除表情包\n",
    "data['message']=data.message.str.replace(r'[^\\u4e00-\\u9fa5]+', '')  #文本正则\n",
    "from jieba import analyse\n",
    "text=data['message'].tolist()\n",
    "text1=','.join(text)\n",
    "tags = analyse.extract_tags(text1, topK=20, withWeight=True, allowPOS=())"
   ]
  },
  {
   "cell_type": "code",
   "execution_count": 24,
   "id": "28f442ef",
   "metadata": {},
   "outputs": [],
   "source": [
    "tag=pd.DataFrame(tags)"
   ]
  },
  {
   "cell_type": "code",
   "execution_count": 25,
   "id": "ccdafbed",
   "metadata": {},
   "outputs": [],
   "source": [
    "tag.columns=['关键词','权重']\n",
    "tag.to_excel('tag.xlsx')"
   ]
  },
  {
   "cell_type": "markdown",
   "id": "586a9770",
   "metadata": {},
   "source": [
    "# 计算lda概率"
   ]
  },
  {
   "cell_type": "code",
   "execution_count": 84,
   "id": "663ff23f",
   "metadata": {},
   "outputs": [],
   "source": [
    "lda=pd.read_excel('ldapxsample.xlsx')"
   ]
  },
  {
   "cell_type": "code",
   "execution_count": 85,
   "id": "c9b5886a",
   "metadata": {},
   "outputs": [],
   "source": [
    "lda.value=lda.value.apply(lambda x: np.array(list(map(float, x.strip(\"[]\").split()))))"
   ]
  },
  {
   "cell_type": "code",
   "execution_count": 86,
   "id": "4e695dad",
   "metadata": {},
   "outputs": [],
   "source": [
    "topics = lda.value.values\n",
    "n = topics.shape[0]"
   ]
  },
  {
   "cell_type": "markdown",
   "id": "9d34717d",
   "metadata": {},
   "source": [
    "# 计算用户i的内容倾向性"
   ]
  },
  {
   "cell_type": "code",
   "execution_count": 278,
   "id": "9d3d4a57",
   "metadata": {},
   "outputs": [
    {
     "name": "stdout",
     "output_type": "stream",
     "text": [
      "       name                                              value\n",
      "0  艺术家菩提老仙儿  [0.00444444, 0.00444895, 0.00444543, 0.0044466...\n",
      "1  LPL战术小黑板  [0.01587302, 0.01587302, 0.01587302, 0.8730158...\n",
      "2       晏九丿  [0.37037169, 0.03703704, 0.03703704, 0.0370628...\n",
      "3  艺术家菩提老仙儿  [0.01587302, 0.01587303, 0.01587402, 0.8730168...\n",
      "       name  average_leaning\n",
      "0  LPL战术小黑板         0.111111\n",
      "1       晏九丿         0.111111\n",
      "2  艺术家菩提老仙儿         0.111112\n"
     ]
    }
   ],
   "source": [
    "import numpy as np\n",
    "import pandas as pd\n",
    "\n",
    "# 假设你有ldaname数据\n",
    "ldaname = {\n",
    "    'name': ['艺术家菩提老仙儿', 'LPL战术小黑板', '晏九丿', '艺术家菩提老仙儿'],\n",
    "    'value': [\n",
    "        np.array([0.00444444, 0.00444895, 0.00444543, 0.00444668, 0.96443421, 0.00444473, 0.00444517, 0.0044459, 0.00444449]),\n",
    "        np.array([0.01587302, 0.01587302, 0.01587302, 0.87301587, 0.01587302, 0.01587302, 0.01587302, 0.01587302, 0.01587302]),\n",
    "        np.array([0.37037169, 0.03703704, 0.03703704, 0.03706283, 0.37033718, 0.03703704, 0.03703747, 0.03704268, 0.03703704]),\n",
    "        np.array([0.01587302, 0.01587303, 0.01587402, 0.87301687, 0.01588302, 0.01587302, 0.01587302, 0.01587302, 0.01587302])\n",
    "    ]\n",
    "}\n",
    "\n",
    "ldaname = pd.DataFrame(ldaname)\n",
    "print(ldaname)\n",
    "# 自定义聚合函数，将用户的内容偏向合并为一个数组\n",
    "def aggregate_values(arr):\n",
    "    return np.mean(arr.tolist(), axis=0)\n",
    "\n",
    "# 应用自定义聚合函数计算每个用户的平均倾向\n",
    "grouped_ldaname = ldaname.groupby('name')['value'].apply(aggregate_values).reset_index()\n",
    "#print(grouped_ldaname)\n",
    "# 计算每个用户的平均倾向\n",
    "grouped_ldaname['average_leaning'] = grouped_ldaname['value'].apply(lambda x: np.mean(x))\n",
    "\n",
    "print(grouped_ldaname[['name', 'average_leaning']])\n"
   ]
  },
  {
   "cell_type": "code",
   "execution_count": 396,
   "id": "fe8466a7",
   "metadata": {},
   "outputs": [
    {
     "name": "stdout",
     "output_type": "stream",
     "text": [
      "<class 'pandas.core.frame.DataFrame'>\n",
      "RangeIndex: 48891 entries, 0 to 48890\n",
      "Data columns (total 2 columns):\n",
      " #   Column  Non-Null Count  Dtype \n",
      "---  ------  --------------  ----- \n",
      " 0   name    48891 non-null  object\n",
      " 1   value   48891 non-null  object\n",
      "dtypes: object(2)\n",
      "memory usage: 764.0+ KB\n"
     ]
    }
   ],
   "source": [
    "ldaname=pd.read_csv('datatopicvalueyuan.csv',encoding='utf-8')#读取具备文档主题分布概率的文件\n",
    "ldaname=pd.concat([ldaname['name'],ldaname['value']],axis=1)\n",
    "ldaname.value=ldaname.value.apply(lambda x: np.array(list(map(float, x.strip(\"[]\").split()))))#变为矩阵\n",
    "ldaname.info()"
   ]
  },
  {
   "cell_type": "code",
   "execution_count": 345,
   "id": "51b48260",
   "metadata": {},
   "outputs": [],
   "source": [
    "#ldaname.groupby(\"name\", as_index=False).agg({\"xi\":\"mean\"})"
   ]
  },
  {
   "cell_type": "code",
   "execution_count": 367,
   "id": "b32a2871",
   "metadata": {},
   "outputs": [],
   "source": [
    "def aggregate_values(arr):\n",
    "    return np.mean(arr.tolist(), axis=0)\n",
    "\n",
    "# 应用自定义聚合函数计算每个用户的平均倾向\n",
    "grouped_ldaname = ldaname.groupby('name')['value'].apply(aggregate_values).reset_index()\n",
    "# 计算每个用户的平均倾向\n",
    "grouped_ldaname['average_leaning'] = grouped_ldaname['value'].apply(lambda x: np.mean(x))#计算出来每个用户的平均倾向\n",
    "#print(grouped_ldaname[['name', 'average_leaning']])"
   ]
  },
  {
   "cell_type": "code",
   "execution_count": 365,
   "id": "3554d016",
   "metadata": {},
   "outputs": [],
   "source": [
    "grouped_ldaname.to_csv('groupname.csv')#个人的平均倾向性"
   ]
  },
  {
   "cell_type": "markdown",
   "id": "b0387324",
   "metadata": {},
   "source": [
    "# 计算邻居的内容倾向性"
   ]
  },
  {
   "cell_type": "code",
   "execution_count": 431,
   "id": "9be25d8b",
   "metadata": {},
   "outputs": [],
   "source": [
    "import networkx as nx"
   ]
  },
  {
   "cell_type": "code",
   "execution_count": 432,
   "id": "ea648c83",
   "metadata": {},
   "outputs": [],
   "source": [
    "df=pd.read_csv('network2.csv')#读取全部的边表格"
   ]
  },
  {
   "cell_type": "code",
   "execution_count": 466,
   "id": "1557c18f",
   "metadata": {},
   "outputs": [],
   "source": [
    "import pandas as pd\n",
    "import networkx as nx\n",
    "\n",
    "# 假设你有边列表数据框 edges_df 和用户内容偏向性数据框 xi_df\n",
    "\n",
    "# 创建边列表数据框\n",
    "edges_df = pd.DataFrame({\n",
    "    'source': ['user1', 'user1', 'user2', 'user3', 'user3', 'user4'],\n",
    "    'target': ['user2', 'user3', 'user4', 'user1', 'user4', 'user1']\n",
    "})\n",
    "edges_df=df\n",
    "# 创建用户内容偏向性数据框\n",
    "xi_df = pd.DataFrame({\n",
    "    'user': ['user1', 'user2', 'user3', 'user4'],\n",
    "    'xi': [0.5, 0.7, 0.3, 0.8]\n",
    "})\n",
    "xi_df=grouped_ldaname\n",
    "xi_df.columns=['user','value','xi']\n",
    "# 创建有向图\n",
    "G = nx.from_pandas_edgelist(edges_df, 'source', 'target', create_using=nx.DiGraph())\n",
    "# 计算每个节点的出度\n",
    "out_degree = dict(G.out_degree())\n",
    "# 初始化一个字典用于存储每个节点的邻居的内容偏向性总和和出度\n",
    "neighbor_sum = {}\n",
    "neighbor_count = {}\n",
    "num_nodes = G.number_of_nodes()\n"
   ]
  },
  {
   "cell_type": "code",
   "execution_count": 467,
   "id": "3d81d52c",
   "metadata": {},
   "outputs": [],
   "source": [
    "# 遍历每个节点\n",
    "for node in G.nodes:\n",
    "    # 如果节点有出度\n",
    "    if out_degree.get(node, 0) > 0:\n",
    "        neighbors = G.successors(node)\n",
    "        for neighbor in neighbors:\n",
    "            #print(neighbor)\n",
    "            # 更新邻居总和和邻居出度\n",
    "            if node in xi_df['user'].values:\n",
    "                if node not in neighbor_sum:\n",
    "                    neighbor_sum[node] = 0\n",
    "                    neighbor_count[node] = 0#在循环中，对于每个节点，都会检查它是否在 neighbor_sum 字典中。如果不在，说明这是第一次遇到这个节点，因此需要将其初始化为0。如果已经在字典中，就保持不变。\n",
    "#这样做的原因是，在循环的后续部分，会根据每个邻居的内容偏向性更新 neighbor_sum 和 neighbor_count。如果不进行初始化，那么第一次遇到一个节点时，字典中不会有这个节点的信息，就无法进行累加操作。所以，这段代码确保在循环中始终有一个干净的状态，可以正确地更新节点的邻居总和和邻居出度。\n",
    "                matching_rows = xi_df.loc[xi_df['user'] == neighbor, 'xi']\n",
    "                if not matching_rows.empty:\n",
    "                    neighbor_sum[node] += matching_rows.values[0]\n",
    "                    neighbor_count[node] += 1\n",
    "                #else:\n",
    "                  #  print(f\"No matching rows for neighbor {neighbor} of node {node}\")\n",
    "                else:\n",
    "                    # 如果 matching_rows 为空，将邻居节点的内容偏向值记为 0\n",
    "                    neighbor_sum[node] += 0\n",
    "                    neighbor_count[node] += 1\n"
   ]
  },
  {
   "cell_type": "code",
   "execution_count": 454,
   "id": "00218bcc",
   "metadata": {},
   "outputs": [],
   "source": [
    "# 计算每个节点的邻居平均内容偏向性\n",
    "average_xiN = {}\n",
    "for node in neighbor_sum:\n",
    "    average_xiN[node] = neighbor_sum[node] / neighbor_count[node] if neighbor_count[node] > 0 else 0\n",
    "\n",
    "# 打印结果\n",
    "#print(\"邻居平均内容偏向性:\")\n",
    "#print(average_xiN)\n",
    "\n"
   ]
  },
  {
   "cell_type": "code",
   "execution_count": 468,
   "id": "bb35960c",
   "metadata": {},
   "outputs": [],
   "source": [
    "result_df = pd.DataFrame(list(average_xiN.items()), columns=['Node', 'Average_xiN'])\n",
    "result_df.to_csv('neighbour.csv')"
   ]
  },
  {
   "cell_type": "code",
   "execution_count": 4,
   "id": "ea24a5ad",
   "metadata": {},
   "outputs": [],
   "source": [
    "result_df=pd.read_csv('neighbour.csv')\n",
    "grouped_ldaname=pd.read_csv('groupname.csv')"
   ]
  },
  {
   "cell_type": "code",
   "execution_count": 5,
   "id": "61627528",
   "metadata": {},
   "outputs": [],
   "source": [
    "merged_df = pd.merge(result_df, grouped_ldaname,left_on='Node', right_on='name', how='outer')\n",
    "mergeddf=merged_df.dropna(subset=['Node'])#最终邻居倾向性与个人倾向性的合表"
   ]
  },
  {
   "cell_type": "code",
   "execution_count": 9,
   "id": "38309924",
   "metadata": {},
   "outputs": [
    {
     "data": {
      "text/html": [
       "<div>\n",
       "<style scoped>\n",
       "    .dataframe tbody tr th:only-of-type {\n",
       "        vertical-align: middle;\n",
       "    }\n",
       "\n",
       "    .dataframe tbody tr th {\n",
       "        vertical-align: top;\n",
       "    }\n",
       "\n",
       "    .dataframe thead th {\n",
       "        text-align: right;\n",
       "    }\n",
       "</style>\n",
       "<table border=\"1\" class=\"dataframe\">\n",
       "  <thead>\n",
       "    <tr style=\"text-align: right;\">\n",
       "      <th></th>\n",
       "      <th>Unnamed: 0_x</th>\n",
       "      <th>Average_xiN</th>\n",
       "      <th>Unnamed: 0_y</th>\n",
       "      <th>average_leaning</th>\n",
       "    </tr>\n",
       "  </thead>\n",
       "  <tbody>\n",
       "    <tr>\n",
       "      <th>count</th>\n",
       "      <td>5067.000000</td>\n",
       "      <td>5067.000000</td>\n",
       "      <td>5067.000000</td>\n",
       "      <td>5.067000e+03</td>\n",
       "    </tr>\n",
       "    <tr>\n",
       "      <th>mean</th>\n",
       "      <td>2533.000000</td>\n",
       "      <td>0.103871</td>\n",
       "      <td>15975.519440</td>\n",
       "      <td>1.111111e-01</td>\n",
       "    </tr>\n",
       "    <tr>\n",
       "      <th>std</th>\n",
       "      <td>1462.861237</td>\n",
       "      <td>0.023321</td>\n",
       "      <td>9194.110177</td>\n",
       "      <td>1.471029e-09</td>\n",
       "    </tr>\n",
       "    <tr>\n",
       "      <th>min</th>\n",
       "      <td>0.000000</td>\n",
       "      <td>0.000000</td>\n",
       "      <td>0.000000</td>\n",
       "      <td>1.111111e-01</td>\n",
       "    </tr>\n",
       "    <tr>\n",
       "      <th>25%</th>\n",
       "      <td>1266.500000</td>\n",
       "      <td>0.111111</td>\n",
       "      <td>8009.500000</td>\n",
       "      <td>1.111111e-01</td>\n",
       "    </tr>\n",
       "    <tr>\n",
       "      <th>50%</th>\n",
       "      <td>2533.000000</td>\n",
       "      <td>0.111111</td>\n",
       "      <td>16002.000000</td>\n",
       "      <td>1.111111e-01</td>\n",
       "    </tr>\n",
       "    <tr>\n",
       "      <th>75%</th>\n",
       "      <td>3799.500000</td>\n",
       "      <td>0.111111</td>\n",
       "      <td>24060.500000</td>\n",
       "      <td>1.111111e-01</td>\n",
       "    </tr>\n",
       "    <tr>\n",
       "      <th>max</th>\n",
       "      <td>5066.000000</td>\n",
       "      <td>0.111111</td>\n",
       "      <td>31872.000000</td>\n",
       "      <td>1.111111e-01</td>\n",
       "    </tr>\n",
       "  </tbody>\n",
       "</table>\n",
       "</div>"
      ],
      "text/plain": [
       "       Unnamed: 0_x  Average_xiN  Unnamed: 0_y  average_leaning\n",
       "count   5067.000000  5067.000000   5067.000000     5.067000e+03\n",
       "mean    2533.000000     0.103871  15975.519440     1.111111e-01\n",
       "std     1462.861237     0.023321   9194.110177     1.471029e-09\n",
       "min        0.000000     0.000000      0.000000     1.111111e-01\n",
       "25%     1266.500000     0.111111   8009.500000     1.111111e-01\n",
       "50%     2533.000000     0.111111  16002.000000     1.111111e-01\n",
       "75%     3799.500000     0.111111  24060.500000     1.111111e-01\n",
       "max     5066.000000     0.111111  31872.000000     1.111111e-01"
      ]
     },
     "execution_count": 9,
     "metadata": {},
     "output_type": "execute_result"
    }
   ],
   "source": [
    "mergeddf.describe()"
   ]
  },
  {
   "cell_type": "markdown",
   "id": "84c4c99d",
   "metadata": {},
   "source": [
    "# px和pxn作图"
   ]
  },
  {
   "cell_type": "code",
   "execution_count": 19,
   "id": "3522cc98",
   "metadata": {},
   "outputs": [],
   "source": [
    "individual_distribution = mergeddf['average_leaning'].to_numpy()\n",
    "neighbor_distribution=mergeddf['Average_xiN'].to_numpy()"
   ]
  },
  {
   "cell_type": "code",
   "execution_count": 20,
   "id": "1eb6eb28",
   "metadata": {},
   "outputs": [],
   "source": [
    "import matplotlib.pyplot as plt"
   ]
  },
  {
   "cell_type": "code",
   "execution_count": 23,
   "id": "10808a3c",
   "metadata": {},
   "outputs": [
    {
     "data": {
      "image/png": "[encoded data removed]",
      "text/plain": [
       "<Figure size 432x288 with 1 Axes>"
      ]
     },
     "metadata": {},
     "output_type": "display_data"
    }
   ],
   "source": [
    "import numpy as np\n",
    "import seaborn as sns\n",
    "import matplotlib.pyplot as plt\n",
    "\n",
    "# Assuming you have data for individual leaning and neighbor leaning\n",
    "# Replace the following with your actual data\n",
    "\n",
    "# Combine data into a DataFrame for seaborn\n",
    "data = {'Individual Leaning (P(x))': individual_distribution, 'Neighbor Leaning (P_N(x))': neighbor_distribution}\n",
    "df = pd.DataFrame(data)\n",
    "\n",
    "# Set seaborn style\n",
    "sns.set(style=\"whitegrid\")\n",
    "\n",
    "# Create a kernel density plot\n",
    "sns.kdeplot(data=df, x=\"Individual Leaning (P(x))\", y=\"Neighbor Leaning (P_N(x))\", fill=True, cmap=\"plasma\")\n",
    "\n",
    "\n",
    "\n",
    "# Add labels and title\n",
    "plt.xlabel('Individual leaning (P(x))')\n",
    "plt.ylabel('Average leaning of neighbors (P_N(x))')\n",
    "plt.title('Kernel Density Plot')\n",
    "\n",
    "# Show the plot\n",
    "plt.show()\n"
   ]
  },
  {
   "cell_type": "code",
   "execution_count": 11,
   "id": "ff33ede5",
   "metadata": {},
   "outputs": [
    {
     "data": {
      "image/png": "[encoded data removed]",
      "text/plain": [
       "<Figure size 432x288 with 1 Axes>"
      ]
     },
     "metadata": {},
     "output_type": "display_data"
    }
   ],
   "source": [
    "import numpy as np\n",
    "import seaborn as sns\n",
    "import matplotlib.pyplot as plt\n",
    "\n",
    "# 生成虚构的个人用户内容偏向和邻居内容偏向的概率分布数据\n",
    "np.random.seed(42)\n",
    "\n",
    "# 生成个人用户的内容偏向数据（示例）\n",
    "individual_distribution = np.random.normal(loc=0.5, scale=0.2, size=500)\n",
    "\n",
    "# 生成邻居的内容偏向数据，假设受到个人用户内容偏向的影响\n",
    "neighbor_distribution = individual_distribution + np.random.normal(loc=0, scale=0.1, size=500)\n",
    "\n",
    "# 合并数据为DataFrame\n",
    "import pandas as pd\n",
    "df = pd.DataFrame({'Individual Leaning': individual_distribution, 'Neighbor Leaning': neighbor_distribution})\n",
    "\n",
    "# 设置 seaborn 风格\n",
    "sns.set(style=\"whitegrid\")\n",
    "\n",
    "# 创建核密度图\n",
    "sns.kdeplot(data=df, x=\"Individual Leaning\", y=\"Neighbor Leaning\", fill=True, cmap=\"plasma\")\n",
    "\n",
    "# 添加标签和标题\n",
    "plt.xlabel('Individual leaning')\n",
    "plt.ylabel('Neighbor leaning')\n",
    "plt.title('Correlation between Individual and Neighbor Leaning')\n",
    "\n",
    "# 显示图形\n",
    "plt.show()\n"
   ]
  },
  {
   "cell_type": "code",
   "execution_count": 14,
   "id": "4d1c6c55",
   "metadata": {},
   "outputs": [
    {
     "ename": "KeyboardInterrupt",
     "evalue": "",
     "output_type": "error",
     "traceback": [
      "\u001b[0;31m---------------------------------------------------------------------------\u001b[0m",
      "\u001b[0;31mKeyboardInterrupt\u001b[0m                         Traceback (most recent call last)",
      "\u001b[0;32m<ipython-input-14-096709f5d042>\u001b[0m in \u001b[0;36m<module>\u001b[0;34m\u001b[0m\n\u001b[1;32m      5\u001b[0m \u001b[0mX\u001b[0m\u001b[0;34m,\u001b[0m \u001b[0mY\u001b[0m \u001b[0;34m=\u001b[0m \u001b[0mnp\u001b[0m\u001b[0;34m.\u001b[0m\u001b[0mmeshgrid\u001b[0m\u001b[0;34m(\u001b[0m\u001b[0mx\u001b[0m\u001b[0;34m,\u001b[0m \u001b[0my\u001b[0m\u001b[0;34m)\u001b[0m\u001b[0;34m\u001b[0m\u001b[0m\n\u001b[1;32m      6\u001b[0m \u001b[0;31m# 绘制 contour map\u001b[0m\u001b[0;34m\u001b[0m\u001b[0;34m\u001b[0m\u001b[0m\n\u001b[0;32m----> 7\u001b[0;31m \u001b[0mplt\u001b[0m\u001b[0;34m.\u001b[0m\u001b[0mcontourf\u001b[0m\u001b[0;34m(\u001b[0m\u001b[0mX\u001b[0m\u001b[0;34m,\u001b[0m \u001b[0mY\u001b[0m\u001b[0;34m,\u001b[0m \u001b[0mnp\u001b[0m\u001b[0;34m.\u001b[0m\u001b[0mouter\u001b[0m\u001b[0;34m(\u001b[0m\u001b[0mindividual_distribution\u001b[0m\u001b[0;34m,\u001b[0m \u001b[0mneighbor_distribution\u001b[0m\u001b[0;34m)\u001b[0m\u001b[0;34m,\u001b[0m \u001b[0mlevels\u001b[0m\u001b[0;34m=\u001b[0m\u001b[0;36m200\u001b[0m\u001b[0;34m,\u001b[0m\u001b[0mcmap\u001b[0m\u001b[0;34m=\u001b[0m\u001b[0;34m'plasma'\u001b[0m\u001b[0;34m)\u001b[0m\u001b[0;34m\u001b[0m\u001b[0m\n\u001b[0m\u001b[1;32m      8\u001b[0m \u001b[0;34m\u001b[0m\u001b[0m\n\u001b[1;32m      9\u001b[0m \u001b[0;31m# 添加标签和标题\u001b[0m\u001b[0;34m\u001b[0m\u001b[0;34m\u001b[0m\u001b[0m\n",
      "\u001b[0;32m/Library/Frameworks/Python.framework/Versions/3.7/lib/python3.7/site-packages/matplotlib/pyplot.py\u001b[0m in \u001b[0;36mcontourf\u001b[0;34m(data, *args, **kwargs)\u001b[0m\n\u001b[1;32m   2482\u001b[0m     __ret = gca().contourf(\n\u001b[1;32m   2483\u001b[0m         \u001b[0;34m*\u001b[0m\u001b[0margs\u001b[0m\u001b[0;34m,\u001b[0m \u001b[0;34m**\u001b[0m\u001b[0;34m(\u001b[0m\u001b[0;34m{\u001b[0m\u001b[0;34m\"data\"\u001b[0m\u001b[0;34m:\u001b[0m \u001b[0mdata\u001b[0m\u001b[0;34m}\u001b[0m \u001b[0;32mif\u001b[0m \u001b[0mdata\u001b[0m \u001b[0;32mis\u001b[0m \u001b[0;32mnot\u001b[0m \u001b[0;32mNone\u001b[0m \u001b[0;32melse\u001b[0m \u001b[0;34m{\u001b[0m\u001b[0;34m}\u001b[0m\u001b[0;34m)\u001b[0m\u001b[0;34m,\u001b[0m\u001b[0;34m\u001b[0m\u001b[0m\n\u001b[0;32m-> 2484\u001b[0;31m         **kwargs)\n\u001b[0m\u001b[1;32m   2485\u001b[0m     \u001b[0;32mif\u001b[0m \u001b[0m__ret\u001b[0m\u001b[0;34m.\u001b[0m\u001b[0m_A\u001b[0m \u001b[0;32mis\u001b[0m \u001b[0;32mnot\u001b[0m \u001b[0;32mNone\u001b[0m\u001b[0;34m:\u001b[0m \u001b[0msci\u001b[0m\u001b[0;34m(\u001b[0m\u001b[0m__ret\u001b[0m\u001b[0;34m)\u001b[0m  \u001b[0;31m# noqa\u001b[0m\u001b[0;34m\u001b[0m\u001b[0m\n\u001b[1;32m   2486\u001b[0m     \u001b[0;32mreturn\u001b[0m \u001b[0m__ret\u001b[0m\u001b[0;34m\u001b[0m\u001b[0m\n",
      "\u001b[0;32m/Library/Frameworks/Python.framework/Versions/3.7/lib/python3.7/site-packages/matplotlib/__init__.py\u001b[0m in \u001b[0;36minner\u001b[0;34m(ax, data, *args, **kwargs)\u001b[0m\n\u001b[1;32m   1410\u001b[0m     \u001b[0;32mdef\u001b[0m \u001b[0minner\u001b[0m\u001b[0;34m(\u001b[0m\u001b[0max\u001b[0m\u001b[0;34m,\u001b[0m \u001b[0;34m*\u001b[0m\u001b[0margs\u001b[0m\u001b[0;34m,\u001b[0m \u001b[0mdata\u001b[0m\u001b[0;34m=\u001b[0m\u001b[0;32mNone\u001b[0m\u001b[0;34m,\u001b[0m \u001b[0;34m**\u001b[0m\u001b[0mkwargs\u001b[0m\u001b[0;34m)\u001b[0m\u001b[0;34m:\u001b[0m\u001b[0;34m\u001b[0m\u001b[0m\n\u001b[1;32m   1411\u001b[0m         \u001b[0;32mif\u001b[0m \u001b[0mdata\u001b[0m \u001b[0;32mis\u001b[0m \u001b[0;32mNone\u001b[0m\u001b[0;34m:\u001b[0m\u001b[0;34m\u001b[0m\u001b[0m\n\u001b[0;32m-> 1412\u001b[0;31m             \u001b[0;32mreturn\u001b[0m \u001b[0mfunc\u001b[0m\u001b[0;34m(\u001b[0m\u001b[0max\u001b[0m\u001b[0;34m,\u001b[0m \u001b[0;34m*\u001b[0m\u001b[0mmap\u001b[0m\u001b[0;34m(\u001b[0m\u001b[0msanitize_sequence\u001b[0m\u001b[0;34m,\u001b[0m \u001b[0margs\u001b[0m\u001b[0;34m)\u001b[0m\u001b[0;34m,\u001b[0m \u001b[0;34m**\u001b[0m\u001b[0mkwargs\u001b[0m\u001b[0;34m)\u001b[0m\u001b[0;34m\u001b[0m\u001b[0m\n\u001b[0m\u001b[1;32m   1413\u001b[0m \u001b[0;34m\u001b[0m\u001b[0m\n\u001b[1;32m   1414\u001b[0m         \u001b[0mbound\u001b[0m \u001b[0;34m=\u001b[0m \u001b[0mnew_sig\u001b[0m\u001b[0;34m.\u001b[0m\u001b[0mbind\u001b[0m\u001b[0;34m(\u001b[0m\u001b[0max\u001b[0m\u001b[0;34m,\u001b[0m \u001b[0;34m*\u001b[0m\u001b[0margs\u001b[0m\u001b[0;34m,\u001b[0m \u001b[0;34m**\u001b[0m\u001b[0mkwargs\u001b[0m\u001b[0;34m)\u001b[0m\u001b[0;34m\u001b[0m\u001b[0m\n",
      "\u001b[0;32m/Library/Frameworks/Python.framework/Versions/3.7/lib/python3.7/site-packages/matplotlib/axes/_axes.py\u001b[0m in \u001b[0;36mcontourf\u001b[0;34m(self, *args, **kwargs)\u001b[0m\n\u001b[1;32m   6315\u001b[0m         \"\"\"\n\u001b[1;32m   6316\u001b[0m         \u001b[0mkwargs\u001b[0m\u001b[0;34m[\u001b[0m\u001b[0;34m'filled'\u001b[0m\u001b[0;34m]\u001b[0m \u001b[0;34m=\u001b[0m \u001b[0;32mTrue\u001b[0m\u001b[0;34m\u001b[0m\u001b[0m\n\u001b[0;32m-> 6317\u001b[0;31m         \u001b[0mcontours\u001b[0m \u001b[0;34m=\u001b[0m \u001b[0mmcontour\u001b[0m\u001b[0;34m.\u001b[0m\u001b[0mQuadContourSet\u001b[0m\u001b[0;34m(\u001b[0m\u001b[0mself\u001b[0m\u001b[0;34m,\u001b[0m \u001b[0;34m*\u001b[0m\u001b[0margs\u001b[0m\u001b[0;34m,\u001b[0m \u001b[0;34m**\u001b[0m\u001b[0mkwargs\u001b[0m\u001b[0;34m)\u001b[0m\u001b[0;34m\u001b[0m\u001b[0m\n\u001b[0m\u001b[1;32m   6318\u001b[0m         \u001b[0mself\u001b[0m\u001b[0;34m.\u001b[0m\u001b[0m_request_autoscale_view\u001b[0m\u001b[0;34m(\u001b[0m\u001b[0;34m)\u001b[0m\u001b[0;34m\u001b[0m\u001b[0m\n\u001b[1;32m   6319\u001b[0m         \u001b[0;32mreturn\u001b[0m \u001b[0mcontours\u001b[0m\u001b[0;34m\u001b[0m\u001b[0m\n",
      "\u001b[0;32m/Library/Frameworks/Python.framework/Versions/3.7/lib/python3.7/site-packages/matplotlib/contour.py\u001b[0m in \u001b[0;36m__init__\u001b[0;34m(self, ax, levels, filled, linewidths, linestyles, hatches, alpha, origin, extent, cmap, colors, norm, vmin, vmax, extend, antialiased, nchunk, locator, transform, *args, **kwargs)\u001b[0m\n\u001b[1;32m    864\u001b[0m \u001b[0;34m\u001b[0m\u001b[0m\n\u001b[1;32m    865\u001b[0m         \u001b[0;32mif\u001b[0m \u001b[0mgetattr\u001b[0m\u001b[0;34m(\u001b[0m\u001b[0mself\u001b[0m\u001b[0;34m,\u001b[0m \u001b[0;34m'allsegs'\u001b[0m\u001b[0;34m,\u001b[0m \u001b[0;32mNone\u001b[0m\u001b[0;34m)\u001b[0m \u001b[0;32mis\u001b[0m \u001b[0;32mNone\u001b[0m\u001b[0;34m:\u001b[0m\u001b[0;34m\u001b[0m\u001b[0m\n\u001b[0;32m--> 866\u001b[0;31m             \u001b[0mself\u001b[0m\u001b[0;34m.\u001b[0m\u001b[0mallsegs\u001b[0m\u001b[0;34m,\u001b[0m \u001b[0mself\u001b[0m\u001b[0;34m.\u001b[0m\u001b[0mallkinds\u001b[0m \u001b[0;34m=\u001b[0m \u001b[0mself\u001b[0m\u001b[0;34m.\u001b[0m\u001b[0m_get_allsegs_and_allkinds\u001b[0m\u001b[0;34m(\u001b[0m\u001b[0;34m)\u001b[0m\u001b[0;34m\u001b[0m\u001b[0m\n\u001b[0m\u001b[1;32m    867\u001b[0m         \u001b[0;32melif\u001b[0m \u001b[0mself\u001b[0m\u001b[0;34m.\u001b[0m\u001b[0mallkinds\u001b[0m \u001b[0;32mis\u001b[0m \u001b[0;32mNone\u001b[0m\u001b[0;34m:\u001b[0m\u001b[0;34m\u001b[0m\u001b[0m\n\u001b[1;32m    868\u001b[0m             \u001b[0;31m# allsegs specified in constructor may or may not have allkinds as\u001b[0m\u001b[0;34m\u001b[0m\u001b[0;34m\u001b[0m\u001b[0m\n",
      "\u001b[0;32m/Library/Frameworks/Python.framework/Versions/3.7/lib/python3.7/site-packages/matplotlib/contour.py\u001b[0m in \u001b[0;36m_get_allsegs_and_allkinds\u001b[0;34m(self)\u001b[0m\n\u001b[1;32m   1051\u001b[0m                 \u001b[0mvertices\u001b[0m\u001b[0;34m,\u001b[0m \u001b[0mkinds\u001b[0m \u001b[0;34m=\u001b[0m\u001b[0;31m \u001b[0m\u001b[0;31m\\\u001b[0m\u001b[0;34m\u001b[0m\u001b[0m\n\u001b[1;32m   1052\u001b[0m                     self._contour_generator.create_filled_contour(\n\u001b[0;32m-> 1053\u001b[0;31m                         level, level_upper)\n\u001b[0m\u001b[1;32m   1054\u001b[0m                 \u001b[0mallsegs\u001b[0m\u001b[0;34m.\u001b[0m\u001b[0mappend\u001b[0m\u001b[0;34m(\u001b[0m\u001b[0mvertices\u001b[0m\u001b[0;34m)\u001b[0m\u001b[0;34m\u001b[0m\u001b[0m\n\u001b[1;32m   1055\u001b[0m                 \u001b[0mallkinds\u001b[0m\u001b[0;34m.\u001b[0m\u001b[0mappend\u001b[0m\u001b[0;34m(\u001b[0m\u001b[0mkinds\u001b[0m\u001b[0;34m)\u001b[0m\u001b[0;34m\u001b[0m\u001b[0m\n",
      "\u001b[0;31mKeyboardInterrupt\u001b[0m: "
     ]
    },
    {
     "data": {
      "image/png": "[encoded data removed]",
      "text/plain": [
       "<Figure size 432x288 with 1 Axes>"
      ]
     },
     "metadata": {
      "needs_background": "light"
     },
     "output_type": "display_data"
    }
   ],
   "source": [
    "\n",
    "x = np.linspace(0, 0.2, len(individual_distribution))\n",
    "y = np.linspace(0, 0.2, len(neighbor_distribution))\n",
    "\n",
    "# 将网格转化为二维数组\n",
    "X, Y = np.meshgrid(x, y)\n",
    "# 绘制 contour map\n",
    "plt.contourf(X, Y, np.outer(individual_distribution, neighbor_distribution), levels=200,cmap='plasma')\n",
    "\n",
    "# 添加标签和标题\n",
    "plt.xlabel('Individual leaning (P(x))')\n",
    "plt.ylabel('Average leaning of neighbors (P_N(x))')\n",
    "plt.title('Probability Distributions Contour Map')\n",
    "\n",
    "# 显示颜色栏\n",
    "plt.colorbar()\n",
    "\n",
    "# 显示图形\n",
    "plt.show()\n",
    "\n"
   ]
  },
  {
   "cell_type": "code",
   "execution_count": null,
   "id": "98d262fd",
   "metadata": {},
   "outputs": [],
   "source": []
  },
  {
   "cell_type": "code",
   "execution_count": 15,
   "id": "3484503f",
   "metadata": {},
   "outputs": [
    {
     "data": {
      "text/plain": [
       "<AxesSubplot:>"
      ]
     },
     "execution_count": 15,
     "metadata": {},
     "output_type": "execute_result"
    },
    {
     "data": {
      "image/png": "[encoded data removed]",
      "text/plain": [
       "<Figure size 432x288 with 2 Axes>"
      ]
     },
     "metadata": {
      "needs_background": "light"
     },
     "output_type": "display_data"
    }
   ],
   "source": [
    "import seaborn as sns\n",
    "\n",
    "sns.heatmap(np.outer(individual_distribution, neighbor_distribution), cmap='plasma', cbar=True)\n"
   ]
  },
  {
   "cell_type": "code",
   "execution_count": null,
   "id": "5c68ae28",
   "metadata": {},
   "outputs": [],
   "source": []
  },
  {
   "cell_type": "markdown",
   "id": "21eb3f5d",
   "metadata": {},
   "source": [
    "# 举例计算邻居倾向性"
   ]
  },
  {
   "cell_type": "code",
   "execution_count": 423,
   "id": "3bf50602",
   "metadata": {},
   "outputs": [
    {
     "name": "stdout",
     "output_type": "stream",
     "text": [
      "A 0.2\n",
      "A 0.5\n",
      "A 0.9\n",
      "邻居总和: {'A': 0.9}\n",
      "邻居出度: {'A': 3}\n"
     ]
    }
   ],
   "source": [
    "import pandas as pd\n",
    "\n",
    "# 创建虚拟数据\n",
    "data = {'user': ['A', 'B', 'C', 'D', 'E'],\n",
    "        'xi': [0.1, 0.2, 0.3, 0.4, 0.5]}\n",
    "xi_df = pd.DataFrame(data)\n",
    "\n",
    "# 假设节点A有出度到B、C、D\n",
    "out_degree = {'A': 3, 'B': 0, 'C': 0, 'D': 0, 'E': 0}\n",
    "\n",
    "# 初始化一个字典用于存储每个节点的邻居的内容偏向性总和和出度\n",
    "neighbor_sum = {}\n",
    "neighbor_count = {}\n",
    "\n",
    "for node in out_degree:\n",
    "    # 如果节点有出度\n",
    "    if out_degree.get(node, 0) > 0:\n",
    "        neighbors = ['B', 'C', 'D']  # 假设A的邻居是B、C、D\n",
    "        for neighbor in neighbors:\n",
    "            # 更新邻居总和和邻居出度\n",
    "            if node in xi_df['user'].values:\n",
    "                if node not in neighbor_sum:\n",
    "                    neighbor_sum[node] = 0\n",
    "                    neighbor_count[node] = 0\n",
    "\n",
    "                matching_rows = xi_df.loc[xi_df['user'] == neighbor, 'xi']\n",
    "                if not matching_rows.empty:\n",
    "                    neighbor_sum[node] += matching_rows.values[0]\n",
    "                    print(node,neighbor_sum[node])\n",
    "                    neighbor_count[node] += 1\n",
    "\n",
    "# 打印结果\n",
    "print(\"邻居总和:\", neighbor_sum)\n",
    "print(\"邻居出度:\", neighbor_count)\n"
   ]
  },
  {
   "cell_type": "code",
   "execution_count": null,
   "id": "f48bcc29",
   "metadata": {},
   "outputs": [],
   "source": []
  }
 ],
 "metadata": {
  "kernelspec": {
   "display_name": "Python 3",
   "language": "python",
   "name": "python3"
  },
  "language_info": {
   "codemirror_mode": {
    "name": "ipython",
    "version": 3
   },
   "file_extension": ".py",
   "mimetype": "text/x-python",
   "name": "python",
   "nbconvert_exporter": "python",
   "pygments_lexer": "ipython3",
   "version": "3.7.0"
  }
 },
 "nbformat": 4,
 "nbformat_minor": 5
}
